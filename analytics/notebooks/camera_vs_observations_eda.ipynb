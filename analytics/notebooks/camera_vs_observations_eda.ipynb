{
 "cells": [
  {
   "cell_type": "code",
   "execution_count": null,
   "metadata": {},
   "outputs": [],
   "source": [
    "import pandas as pd\n",
    "import matplotlib.pyplot as plt\n",
    "import seaborn as sns\n",
    "from datetime import datetime"
   ]
  },
  {
   "cell_type": "code",
   "execution_count": null,
   "metadata": {},
   "outputs": [],
   "source": [
    "pd.set_option('display.float_format', lambda x: '%.3f' % x)"
   ]
  },
  {
   "cell_type": "code",
   "execution_count": null,
   "metadata": {},
   "outputs": [],
   "source": [
    "sns.set(rc={'figure.figsize':(16,9)})"
   ]
  },
  {
   "cell_type": "markdown",
   "metadata": {},
   "source": [
    "# Intro and basic datasets' stats"
   ]
  },
  {
   "cell_type": "markdown",
   "metadata": {},
   "source": [
    "These are unique MAIDs seen in a Link viewshed with site id = mn-06-138318 "
   ]
  },
  {
   "cell_type": "code",
   "execution_count": null,
   "metadata": {},
   "outputs": [],
   "source": [
    "start_date, end_date = '2020-08-01 15:00:00-0400', '2020-08-07 15:00:00-0400'\n",
    "\n",
    "begin_dt = datetime.strptime(start_date, '%Y-%m-%d %H:%M:%S%z')\n",
    "end_dt = datetime.strptime(end_date, '%Y-%m-%d %H:%M:%S%z')"
   ]
  },
  {
   "cell_type": "code",
   "execution_count": null,
   "metadata": {},
   "outputs": [],
   "source": [
    "ds_spec = f\"mn-06-138318_165_{begin_dt.strftime('%Y%m%d_%H%M%S%z')}_{end_dt.strftime('%Y%m%d_%H%M%S%z')}\""
   ]
  },
  {
   "cell_type": "code",
   "execution_count": null,
   "metadata": {},
   "outputs": [],
   "source": [
    "ds_dir = '../../analytics/data'"
   ]
  },
  {
   "cell_type": "markdown",
   "metadata": {},
   "source": [
    "These are people/cars/trucks counts from camera with locationId=165 (cameraId=4) ***seen over a period of 60secs***"
   ]
  },
  {
   "cell_type": "code",
   "execution_count": null,
   "metadata": {},
   "outputs": [],
   "source": [
    "camera_ts = pd.read_csv(f'../../analytics/data/camera_{ds_spec}.csv')"
   ]
  },
  {
   "cell_type": "code",
   "execution_count": null,
   "metadata": {},
   "outputs": [],
   "source": [
    "camera_ts.info()"
   ]
  },
  {
   "cell_type": "code",
   "execution_count": null,
   "metadata": {},
   "outputs": [],
   "source": [
    "camera_ts.describe()"
   ]
  },
  {
   "cell_type": "code",
   "execution_count": null,
   "metadata": {},
   "outputs": [],
   "source": [
    "camera_ts.head()"
   ]
  },
  {
   "cell_type": "code",
   "execution_count": null,
   "metadata": {},
   "outputs": [],
   "source": [
    "camera_ts[camera_ts['people'] == 0].shape"
   ]
  },
  {
   "cell_type": "code",
   "execution_count": null,
   "metadata": {},
   "outputs": [],
   "source": [
    "camera_ts[camera_ts['people'] > 0].shape"
   ]
  },
  {
   "cell_type": "markdown",
   "metadata": {},
   "source": [
    "Let's make camera data continuous"
   ]
  },
  {
   "cell_type": "code",
   "execution_count": null,
   "metadata": {},
   "outputs": [],
   "source": [
    "seconds_range = pd.date_range(begin_dt,end_dt,freq='S')"
   ]
  },
  {
   "cell_type": "code",
   "execution_count": null,
   "metadata": {},
   "outputs": [],
   "source": [
    "seconds_df = pd.DataFrame(seconds_range, columns=['full_idx'])"
   ]
  },
  {
   "cell_type": "code",
   "execution_count": null,
   "metadata": {},
   "outputs": [],
   "source": [
    "seconds_df"
   ]
  },
  {
   "cell_type": "code",
   "execution_count": null,
   "metadata": {},
   "outputs": [],
   "source": [
    "camera_ts['idx'] = camera_ts['timestamp'].apply(lambda ts: datetime.fromtimestamp(ts, tz=begin_dt.tzinfo))"
   ]
  },
  {
   "cell_type": "code",
   "execution_count": null,
   "metadata": {},
   "outputs": [],
   "source": [
    "camera_ts['idx']"
   ]
  },
  {
   "cell_type": "code",
   "execution_count": null,
   "metadata": {},
   "outputs": [],
   "source": [
    "dataset_df = pd.merge_ordered(seconds_df, camera_ts, how='left', left_on='full_idx', right_on='idx')"
   ]
  },
  {
   "cell_type": "code",
   "execution_count": null,
   "metadata": {},
   "outputs": [],
   "source": [
    "dataset_df"
   ]
  },
  {
   "cell_type": "code",
   "execution_count": null,
   "metadata": {},
   "outputs": [],
   "source": [
    "dataset_df['people'][dataset_df['people'].isna()] = 0\n",
    "dataset_df['cars'][dataset_df['cars'].isna()] = 0\n",
    "dataset_df['trucks'][dataset_df['trucks'].isna()] = 0"
   ]
  },
  {
   "cell_type": "code",
   "execution_count": null,
   "metadata": {},
   "outputs": [],
   "source": [
    "dataset_df"
   ]
  },
  {
   "cell_type": "markdown",
   "metadata": {},
   "source": [
    "The idea is to align aggregated camera data (new people detected as a change in the number of people between two consecutive timestamped frames) to observational data (# of unique people's devices in 60 sec time cells).\n",
    "\n",
    "For that we let's consider the difference between the people counts from the current and the previous frames. Positive difference means new people entered a frame. If it is < 0, it means they left the frame (0 means people \"swapped\", but on a second level resolution it's unlikely)\n",
    "\n",
    "So if `d` is the difference array and `v` is the people counts array for each of consecutive frames, then `d` over a sequence of frames is calculated as follows:\n",
    "\n",
    "```\n",
    "d[0] = v[0] - 0      # initial \"previous\" value is 0 \n",
    "d[1] = v[1] - v[0]\n",
    "d[2] = v[2] - v[1]\n",
    "d[3] = v[3] - v[2]\n",
    "```"
   ]
  },
  {
   "cell_type": "code",
   "execution_count": null,
   "metadata": {},
   "outputs": [],
   "source": [
    "dataset_df['total'] = dataset_df['people'] + dataset_df['cars']\n",
    "dataset_df['ppl_delta_cnt'] = dataset_df['total'] - dataset_df['total'].shift(1, fill_value=0)"
   ]
  },
  {
   "cell_type": "code",
   "execution_count": null,
   "metadata": {},
   "outputs": [],
   "source": [
    "dataset_df['ppl_delta_cnt'] = dataset_df['people'] - dataset_df['people'].shift(1, fill_value=0)"
   ]
  },
  {
   "cell_type": "code",
   "execution_count": null,
   "metadata": {},
   "outputs": [],
   "source": [
    "dataset_df"
   ]
  },
  {
   "cell_type": "code",
   "execution_count": null,
   "metadata": {},
   "outputs": [],
   "source": [
    "dataset_df['timestamp'] = dataset_df['full_idx'].apply(lambda dt: int(dt.timestamp()))"
   ]
  },
  {
   "cell_type": "code",
   "execution_count": null,
   "metadata": {},
   "outputs": [],
   "source": [
    "dataset_df['ts_cell'] = (dataset_df['timestamp'] // 60) * 60"
   ]
  },
  {
   "cell_type": "code",
   "execution_count": null,
   "metadata": {},
   "outputs": [],
   "source": [
    "dataset_df"
   ]
  },
  {
   "cell_type": "code",
   "execution_count": null,
   "metadata": {},
   "outputs": [],
   "source": [
    "grouped_df = dataset_df.groupby('ts_cell')\n",
    "\n",
    "sum_cnt = grouped_df['ppl_delta_cnt'].agg(lambda df: df[df > 0].sum())\n",
    "\n",
    "ppl_sum_df = pd.DataFrame(sum_cnt)"
   ]
  },
  {
   "cell_type": "code",
   "execution_count": null,
   "metadata": {},
   "outputs": [],
   "source": [
    "ppl_sum_df['ts_cell'] = ppl_sum_df.index.values\n",
    "ppl_sum_df['t'] = ppl_sum_df['ts_cell'].apply(lambda ts: datetime.fromtimestamp(ts))"
   ]
  },
  {
   "cell_type": "code",
   "execution_count": null,
   "metadata": {},
   "outputs": [],
   "source": [
    "ppl_sum_df['ma_cnt_cam'] = ppl_sum_df['ppl_delta_cnt'].ewm(span=20, adjust=False).mean()"
   ]
  },
  {
   "cell_type": "code",
   "execution_count": null,
   "metadata": {},
   "outputs": [],
   "source": [
    "ppl_sum_df.head()"
   ]
  },
  {
   "cell_type": "code",
   "execution_count": null,
   "metadata": {},
   "outputs": [],
   "source": [
    "ppl_sum_df.iloc[:60*48].plot(x='t', y='ma_cnt_cam', figsize=(16, 9))"
   ]
  },
  {
   "cell_type": "code",
   "execution_count": null,
   "metadata": {},
   "outputs": [],
   "source": [
    "ppl_sum_df.plot(x='t', y='ma_cnt_cam', figsize=(16, 9))"
   ]
  },
  {
   "cell_type": "code",
   "execution_count": null,
   "metadata": {},
   "outputs": [],
   "source": [
    "observation_ts = pd.read_csv(f'{ds_dir}/observations_{ds_spec}.csv')"
   ]
  },
  {
   "cell_type": "code",
   "execution_count": null,
   "metadata": {},
   "outputs": [],
   "source": [
    "observation_ts.head()"
   ]
  },
  {
   "cell_type": "code",
   "execution_count": null,
   "metadata": {},
   "outputs": [],
   "source": [
    "observation_ts.info()"
   ]
  },
  {
   "cell_type": "code",
   "execution_count": null,
   "metadata": {},
   "outputs": [],
   "source": [
    "observation_ts.describe()"
   ]
  },
  {
   "cell_type": "code",
   "execution_count": null,
   "metadata": {},
   "outputs": [],
   "source": [
    "observation_ts['t'] = observation_ts['TS_CELL'].apply(lambda ts: datetime.fromtimestamp(ts))"
   ]
  },
  {
   "cell_type": "code",
   "execution_count": null,
   "metadata": {},
   "outputs": [],
   "source": [
    "observation_ts['ma_cnt_obs'] = observation_ts['CNT'].ewm(span=20, adjust=False).mean()"
   ]
  },
  {
   "cell_type": "code",
   "execution_count": null,
   "metadata": {},
   "outputs": [],
   "source": [
    "observation_ts.plot(x='t', y='ma_cnt_obs', figsize=(16, 9), color='goldenrod')"
   ]
  },
  {
   "cell_type": "code",
   "execution_count": null,
   "metadata": {},
   "outputs": [],
   "source": [
    "obs_cam_df = pd.merge(observation_ts, ppl_sum_df, how='outer', right_index=True, left_on='TS_CELL')"
   ]
  },
  {
   "cell_type": "code",
   "execution_count": null,
   "metadata": {},
   "outputs": [],
   "source": [
    "obs_cam_df.head()"
   ]
  },
  {
   "cell_type": "code",
   "execution_count": null,
   "metadata": {},
   "outputs": [],
   "source": [
    "obs_cam_df[['ma_cnt_obs', 'ma_cnt_cam']].corr()"
   ]
  },
  {
   "cell_type": "code",
   "execution_count": null,
   "metadata": {},
   "outputs": [],
   "source": []
  },
  {
   "cell_type": "code",
   "execution_count": null,
   "metadata": {},
   "outputs": [],
   "source": [
    "plot_df = obs_cam_df.melt(id_vars='t_x', value_vars=['ma_cnt_cam', 'ma_cnt_obs'], var_name='dataset', value_name='people_cnt')"
   ]
  },
  {
   "cell_type": "code",
   "execution_count": null,
   "metadata": {},
   "outputs": [],
   "source": [
    "sns.lineplot(data=plot_df, x='t_x', y='people_cnt', hue='dataset')"
   ]
  },
  {
   "cell_type": "code",
   "execution_count": null,
   "metadata": {},
   "outputs": [],
   "source": [
    "obs_cam_df['ma_cnt_cam_norm'] = obs_cam_df['ma_cnt_cam'] / obs_cam_df['ma_cnt_cam'].max()\n",
    "obs_cam_df['ma_cnt_obs_norm'] = obs_cam_df['ma_cnt_obs'] / obs_cam_df['ma_cnt_obs'].max()"
   ]
  },
  {
   "cell_type": "code",
   "execution_count": null,
   "metadata": {},
   "outputs": [],
   "source": [
    "plot_df_norm = obs_cam_df.melt(id_vars='t_x', value_vars=['ma_cnt_cam_norm', 'ma_cnt_obs_norm'], var_name='dataset', value_name='people_cnt')"
   ]
  }
 ],
 "metadata": {
  "kernelspec": {
   "display_name": "Python 3",
   "language": "python",
   "name": "python3"
  },
  "language_info": {
   "codemirror_mode": {
    "name": "ipython",
    "version": 3
   },
   "file_extension": ".py",
   "mimetype": "text/x-python",
   "name": "python",
   "nbconvert_exporter": "python",
   "pygments_lexer": "ipython3",
   "version": "3.6.9"
  }
 },
 "nbformat": 4,
 "nbformat_minor": 4
}
